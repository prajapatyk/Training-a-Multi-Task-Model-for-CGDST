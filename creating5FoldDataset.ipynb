{
 "cells": [
  {
   "cell_type": "code",
   "execution_count": 1,
   "metadata": {},
   "outputs": [],
   "source": [
    "import os\n",
    "import random \n",
    "import shutil\n",
    "totClasses=8"
   ]
  },
  {
   "cell_type": "code",
   "execution_count": 2,
   "metadata": {},
   "outputs": [],
   "source": [
    "def getSeedValue():\n",
    "    return 0.5"
   ]
  },
  {
   "cell_type": "code",
   "execution_count": 3,
   "metadata": {},
   "outputs": [],
   "source": [
    "\n",
    "def addImageInTheDataset(pathDirectory,imgFileName,txtFileName,destDirectory):\n",
    "    #shutil.copy(os.path.join(pathDirectory,imgFileName),destDirectory+\"/\"+imgFileName)\n",
    "    #shutil.copy(os.path.join(pathDirectory,txtFileName),destDirectory+\"/\"+txtFileName)\n",
    "    shutil.move(os.path.join(pathDirectory,imgFileName),destDirectory)\n",
    "    shutil.move(os.path.join(pathDirectory,txtFileName),destDirectory)\n",
    "\n",
    "\n",
    "def create5FoldDataset(path):\n",
    "    for i in range(5):\n",
    "        os.mkdir(path+\"/FOLD\"+str(i))\n",
    "    \n",
    "    classCnt=[0]*totClasses\n",
    "    files=os.listdir(path)\n",
    "    random.shuffle(files,getSeedValue)\n",
    "    for file in files:\n",
    "        if len(file)>=3 and file[-3:]!='jpg':\n",
    "            continue\n",
    "\n",
    "        #Corresponding txt file not found\n",
    "        if file[:-3]+\"txt\" not in files:\n",
    "            continue\n",
    "\n",
    "        txtfile=file[:-3]+\"txt\"\n",
    "        txtFileReader=open(os.path.join(path,txtfile),'r')\n",
    "        lines=txtFileReader.readlines()\n",
    "        txtFileReader.close()\n",
    "        classOfImage=int(lines[0].split()[0])\n",
    "        classCnt[classOfImage]+=1\n",
    "        classCnt[classOfImage]%=5\n",
    "        addImageInTheDataset(path,file,txtfile,path+\"/FOLD\"+str(classCnt[classOfImage]))"
   ]
  },
  {
   "cell_type": "code",
   "execution_count": 4,
   "metadata": {},
   "outputs": [],
   "source": [
    "def addImagesFromSourceToDestination(srcPath, destPath):\n",
    "    files = os.listdir(srcPath)\n",
    "    for file in files:\n",
    "        if len(file)>=3 and file[-3:]!='jpg':\n",
    "            continue\n",
    "\n",
    "        txtFile=file[:-3]+\"txt\"\n",
    "        addImageInTheDataset(srcPath, file, txtFile, destPath)\n",
    "\n",
    "\n",
    "#Now creating the training and valiation dataset for each fold\n",
    "#We create new folds as:\n",
    "#foldi = imagesInFoldi_AsValidation + imagesInOtherFoldsAsTraining\n",
    "def createTrainingAndValidationDatasetForFiveFolds(foldDirectory):\n",
    "    for i in range(5):\n",
    "        foldPath = foldDirectory+\"/FOLD\"+str(i)\n",
    "        trainingPath = foldPath + \"/Training\"\n",
    "        validationPath = foldPath + \"/Validation\"\n",
    "        os.mkdir(trainingPath)\n",
    "        os.mkdir(validationPath)\n",
    "\n",
    "        for j in range(5):\n",
    "            if i == j:\n",
    "                addImagesFromSourceToDestination(foldPath, validationPath)\n",
    "            else:\n",
    "                addImagesFromSourceToDestination(foldDirectory+\"/FOLD\"+str(j), trainingPath)"
   ]
  },
  {
   "cell_type": "code",
   "execution_count": 6,
   "metadata": {},
   "outputs": [],
   "source": [
    "def main():\n",
    "    if False:\n",
    "        create5FoldDataset(\"Data\")\n",
    "\n",
    "    if False:\n",
    "        createTrainingAndValidationDatasetForFiveFolds(\"/Data/FiveFoldCrossValidationDataset\")\n",
    "\n",
    "if __name__==\"__main__\":\n",
    "    main()"
   ]
  }
 ],
 "metadata": {
  "kernelspec": {
   "display_name": "Python 3.10.1 64-bit",
   "language": "python",
   "name": "python3"
  },
  "language_info": {
   "codemirror_mode": {
    "name": "ipython",
    "version": 3
   },
   "file_extension": ".py",
   "mimetype": "text/x-python",
   "name": "python",
   "nbconvert_exporter": "python",
   "pygments_lexer": "ipython3",
   "version": "3.10.1 (tags/v3.10.1:2cd268a, Dec  6 2021, 19:10:37) [MSC v.1929 64 bit (AMD64)]"
  },
  "orig_nbformat": 4,
  "vscode": {
   "interpreter": {
    "hash": "4bdb96e09ce22342f975da23666e360f22ccd0222cdc62f96bd541c28d6365fe"
   }
  }
 },
 "nbformat": 4,
 "nbformat_minor": 2
}
